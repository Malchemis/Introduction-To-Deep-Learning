{
 "cells": [
  {
   "metadata": {},
   "cell_type": "markdown",
   "source": "# CNN from scratch - More explanation on the convolutions."
  },
  {
   "cell_type": "markdown",
   "metadata": {},
   "source": "## Explaining the forward pass of the Conv2d layer using unfold operations"
  },
  {
   "cell_type": "markdown",
   "metadata": {},
   "source": [
    "### Default image"
   ]
  },
  {
   "cell_type": "markdown",
   "metadata": {},
   "source": [
    "The original image is a 28x28 grayscale image. We can plot it to see how it looks:"
   ]
  },
  {
   "cell_type": "code",
   "metadata": {
    "ExecuteTime": {
     "end_time": "2024-11-23T00:13:20.217757Z",
     "start_time": "2024-11-23T00:13:20.043917Z"
    }
   },
   "source": [
    "import torch\n",
    "from torch.utils.data import DataLoader\n",
    "from torchvision import datasets, transforms\n",
    "import matplotlib.pyplot as plt\n",
    "\n",
    "# Load MNIST dataset\n",
    "transform = transforms.Compose([\n",
    "    transforms.ToTensor(),\n",
    "    transforms.Normalize((0.1307,), (0.3081,))\n",
    "])\n",
    "dataset = datasets.MNIST('../data/raw/', train=True, download=True, transform=transform)\n",
    "loader = DataLoader(dataset, batch_size=1, shuffle=True)\n",
    "\n",
    "# Get a single image\n",
    "dataiter = iter(loader)\n",
    "image, label = next(dataiter)\n",
    "\n",
    "# Plot the original image\n",
    "plt.figure(figsize=(4, 4))\n",
    "plt.imshow(image[0][0], cmap='gray')\n",
    "plt.title(f'Original Image - Label: {label.item()}')\n",
    "plt.axis('off')\n",
    "plt.show()"
   ],
   "outputs": [
    {
     "data": {
      "text/plain": [
       "<Figure size 400x400 with 1 Axes>"
      ],
      "image/png": "[encoded data removed]"
     },
     "metadata": {},
     "output_type": "display_data"
    }
   ],
   "execution_count": 63
  },
  {
   "metadata": {
    "ExecuteTime": {
     "end_time": "2024-11-23T00:13:20.250501Z",
     "start_time": "2024-11-23T00:13:20.246411Z"
    }
   },
   "cell_type": "code",
   "source": "print(image.shape, label.shape)",
   "outputs": [
    {
     "name": "stdout",
     "output_type": "stream",
     "text": [
      "torch.Size([1, 1, 28, 28]) torch.Size([1])\n"
     ]
    }
   ],
   "execution_count": 64
  },
  {
   "cell_type": "markdown",
   "metadata": {},
   "source": [
    "### Padding"
   ]
  },
  {
   "cell_type": "markdown",
   "metadata": {},
   "source": [
    "We apply padding to the image to maintain the spatial dimensions after convolution (only if stride is 1), and in particular to apply convolutions on pixels near the borders of the image. The filter will extend outside the original image for padding named `same`, while sliding through pixels at a kernel_size distance (or more) for padding `valid`.  \n",
    "\n",
    "In this notebook, we implement and try to understand convolutions using padding `same`."
   ]
  },
  {
   "cell_type": "code",
   "metadata": {
    "ExecuteTime": {
     "end_time": "2024-11-23T00:17:40.827679Z",
     "start_time": "2024-11-23T00:17:40.746462Z"
    }
   },
   "source": [
    "import torch.nn.functional as F\n",
    "\n",
    "# let's suppose a kernel size of 3x3 and stride of 1\n",
    "kernel_size = (3, 3)\n",
    "stride = (1, 1)\n",
    "\n",
    "padding = tuple((s * (k - 1) // 2 for s, k in zip(stride, kernel_size)))\n",
    "padded_image_using_same = F.pad(image, (padding[1], padding[1], padding[0], padding[0]))\n",
    "print(f\"Shape of padded image : {padded_image_using_same.shape} with padding {padding}\")\n",
    "\n",
    "# Plot the padded image\n",
    "plt.figure(figsize=(4, 4))\n",
    "plt.imshow(padded_image_using_same[0][0], cmap='gray')\n",
    "plt.title('Padded Image')\n",
    "plt.axis('off')\n",
    "plt.show()"
   ],
   "outputs": [
    {
     "name": "stdout",
     "output_type": "stream",
     "text": [
      "Shape of padded image : torch.Size([1, 1, 32, 32]) with padding (2, 2)\n"
     ]
    },
    {
     "data": {
      "text/plain": [
       "<Figure size 400x400 with 1 Axes>"
      ],
      "image/png": "[encoded data removed]"
     },
     "metadata": {},
     "output_type": "display_data"
    }
   ],
   "execution_count": 71
  },
  {
   "cell_type": "markdown",
   "metadata": {},
   "source": [
    "### Unfolding"
   ]
  },
  {
   "cell_type": "markdown",
   "metadata": {},
   "source": [
    "The unfold operation transforms the input tensor into a series of columns, each representing a patch of the image that will be convolved with the filter. This operation makes it easier to perform convolution as a matrix multiplication.\n",
    "\n",
    "With .unfold, we first flatten along the height, then along the width, using the kernel size and stride."
   ]
  },
  {
   "cell_type": "code",
   "metadata": {
    "ExecuteTime": {
     "end_time": "2024-11-23T00:19:53.461491Z",
     "start_time": "2024-11-23T00:19:53.455883Z"
    }
   },
   "source": [
    "unfolded_image = padded_image_using_same.unfold(2, kernel_size[0], stride[0])\n",
    "print(f\"Shape of the unfolded image: {unfolded_image.shape}\")\n",
    "\n",
    "unfolded_image_2nd = unfolded_image.unfold(3, kernel_size[1], stride[1])\n",
    "print(f\"Shape of the unfolded image: {unfolded_image_2nd.shape}\") "
   ],
   "outputs": [
    {
     "name": "stdout",
     "output_type": "stream",
     "text": [
      "Shape of the unfolded image: torch.Size([1, 1, 15, 32, 3])\n",
      "Shape of the unfolded image: torch.Size([1, 1, 15, 15, 3, 3])\n"
     ]
    }
   ],
   "execution_count": 73
  },
  {
   "metadata": {},
   "cell_type": "markdown",
   "source": "Notice that the 2 last dimensions are the kernel_size, we can perform easily a matrix multiplication with a filter over these dimensions. For each pixel, we got a patch of the desired kernel size."
  },
  {
   "cell_type": "markdown",
   "metadata": {},
   "source": [
    "Unfolding is hard to visualize due to the high dimensionality of the tensors involved. What we have to keep in mind, is that for the convolutions, we want to create the patches of the image that will be convolved with the filter. This is done by sliding the filter over the extracted patches from the image.\n",
    "\n",
    "An equivalent operation using for loops would be :\n",
    "```python\t\n",
    "patches = []\n",
    "for batch in range(batch_size):\n",
    "    for channel in range(in_channels):\n",
    "        for i in range(0, H, stride): # H is height of the image\n",
    "            for j in range(0, W, stride): # W is weight of the image\n",
    "                patch = x[batch, channel, i:i+kernel_size, j:j+kernel_size]\n",
    "                patches.append(patch.flatten())\n",
    "```\n",
    "Note that the above code does not account for padding.\n",
    "Using for loops is obviously slower than using .unfold, as we can parallelize the operations across the different dimensions of the tensor."
   ]
  },
  {
   "cell_type": "markdown",
   "metadata": {},
   "source": [
    "### The convolution using matrix multiplication"
   ]
  },
  {
   "metadata": {
    "ExecuteTime": {
     "end_time": "2024-11-23T00:13:20.596682Z",
     "start_time": "2024-11-23T00:13:20.516139Z"
    }
   },
   "cell_type": "code",
   "source": [
    "# Convolution filter\n",
    "weight = torch.randn(1, 1, kernel_size[0], kernel_size[1])\n",
    "print(f\"Shape of the weight tensor: {weight.shape}\")\n",
    "\n",
    "# Plot the filter\n",
    "plt.figure(figsize=(4, 4))\n",
    "plt.imshow(weight[0][0], cmap='gray')\n",
    "plt.title('Filter')\n",
    "plt.axis('off')\n",
    "plt.show()\n",
    "\n",
    "weight = weight.view(1, -1).t().contiguous()\n",
    "print(f\"Shape of the weight tensor aligned: {weight.shape}\")"
   ],
   "outputs": [
    {
     "name": "stdout",
     "output_type": "stream",
     "text": [
      "Shape of the weight tensor: torch.Size([1, 1, 3, 3])\n"
     ]
    },
    {
     "data": {
      "text/plain": [
       "<Figure size 400x400 with 1 Axes>"
      ],
      "image/png": "[encoded data removed]"
     },
     "metadata": {},
     "output_type": "display_data"
    },
    {
     "name": "stdout",
     "output_type": "stream",
     "text": [
      "Shape of the weight tensor aligned: torch.Size([9, 1])\n"
     ]
    }
   ],
   "execution_count": 67
  },
  {
   "metadata": {},
   "cell_type": "markdown",
   "source": "Height and Width is kept the same as original only if the stride is 1, else it is reduced."
  },
  {
   "metadata": {
    "ExecuteTime": {
     "end_time": "2024-11-23T00:13:41.490084Z",
     "start_time": "2024-11-23T00:13:41.487287Z"
    }
   },
   "cell_type": "code",
   "source": "height, width = unfolded_image_2nd.shape[2], unfolded_image_2nd.shape[3] ",
   "outputs": [],
   "execution_count": 69
  },
  {
   "metadata": {
    "ExecuteTime": {
     "end_time": "2024-11-23T00:13:42.478063Z",
     "start_time": "2024-11-23T00:13:42.396291Z"
    }
   },
   "cell_type": "code",
   "source": [
    "# Reshape the unfolded image\n",
    "unfolded_image = unfolded_image_2nd.permute(0, 2, 3, 1, 4, 5).contiguous().view(1, height, width, 1, -1)\n",
    "# -> dims are reordered to [batch_size, height, width, in_channels, kernel_height, kernel_width]\n",
    "# -> contiguous() is called to ensure that the tensor is stored in a contiguous block of memory (necessary for view)\n",
    "# -> view is called to reshape the tensor to [batch_size, height, width, in_channels, kernel_height * kernel_width]\n",
    "unfolded_image = unfolded_image.permute(0, 4, 1, 2, 3).contiguous()\n",
    "# -> dims are reordered to [batch_size, kernel_height * kernel_width, height, width, in_channels]\n",
    "print(f\"Shape of the unfolded image: {unfolded_image.shape}\")\n",
    "\n",
    "# perform the convolution operation\n",
    "output = unfolded_image.view(1 * height * width, 1, -1).matmul(weight).view(1, height, width, 1).permute(0, 3, 1, 2)\n",
    "# -> dims are reshaped to [batch_size * height * width, in_channels, kernel_height * kernel_width]\n",
    "# -> the convolution operation is performed by matrix multiplication\n",
    "# -> dims are reshaped back to [batch_size, height, width, out_channels]\n",
    "# -> the output tensor is permuted to [batch_size, out_channels, height, width]\n",
    "print(f\"Shape of the output tensor: {output.shape}\")\n",
    "\n",
    "# Plot the output image\n",
    "plt.figure(figsize=(4, 4))\n",
    "plt.imshow(output[0][0], cmap='gray')\n",
    "plt.title('Filtered Image')\n",
    "plt.axis('off')\n",
    "plt.show()"
   ],
   "outputs": [
    {
     "name": "stdout",
     "output_type": "stream",
     "text": [
      "Shape of the unfolded image: torch.Size([1, 9, 15, 15, 1])\n",
      "Shape of the output tensor: torch.Size([1, 1, 15, 15])\n"
     ]
    },
    {
     "data": {
      "text/plain": [
       "<Figure size 400x400 with 1 Axes>"
      ],
      "image/png": "[encoded data removed]"
     },
     "metadata": {},
     "output_type": "display_data"
    }
   ],
   "execution_count": 70
  },
  {
   "cell_type": "markdown",
   "metadata": {},
   "source": [
    "a bias can be added simply by adding a random tensor to the output of the convolution."
   ]
  }
 ],
 "metadata": {
  "language_info": {
   "name": "python"
  },
  "kernelspec": {
   "name": "python3",
   "language": "python",
   "display_name": "Python 3 (ipykernel)"
  }
 },
 "nbformat": 4,
 "nbformat_minor": 2
}
